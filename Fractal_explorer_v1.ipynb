{
 "cells": [
  {
   "cell_type": "markdown",
   "metadata": {},
   "source": [
    "Use in VS Code\n",
    "Create a python environment. I used 3.12.2\n",
    "activate the kernel for the env- I called mine jupy "
   ]
  },
  {
   "cell_type": "code",
   "execution_count": null,
   "metadata": {},
   "outputs": [],
   "source": [
    "# Use ! to run shell commands from an IPython notebook cell\n",
    "%pip install numpy pandas gradio matplotlib pyarrow ipywidgets\n"
   ]
  },
  {
   "cell_type": "code",
   "execution_count": 6,
   "metadata": {},
   "outputs": [],
   "source": [
    "# Import necessary libraries\n",
    "import numpy as np\n",
    "import pandas as pd\n",
    "import gradio as gr\n",
    "import matplotlib.pyplot as plt\n",
    "from matplotlib.patches import Polygon\n",
    "from mpl_toolkits.mplot3d import Axes3D\n"
   ]
  },
  {
   "cell_type": "code",
   "execution_count": 7,
   "metadata": {},
   "outputs": [],
   "source": [
    "def sierpinski_triangle(ax, order, vertices):\n",
    "    if order == 0:\n",
    "        triangle = Polygon(vertices, closed=True)\n",
    "        ax.add_patch(triangle)\n",
    "    else:\n",
    "        v0 = vertices[0]\n",
    "        v1 = vertices[1]\n",
    "        v2 = vertices[2]\n",
    "        mid01 = (v0 + v1) / 2\n",
    "        mid12 = (v1 + v2) / 2\n",
    "        mid20 = (v2 + v0) / 2\n",
    "        sierpinski_triangle(ax, order-1, [v0, mid01, mid20])\n",
    "        sierpinski_triangle(ax, order-1, [mid01, v1, mid12])\n",
    "        sierpinski_triangle(ax, order-1, [mid20, mid12, v2])\n",
    "\n",
    "def mandelbrot(c, max_iter):\n",
    "    z = 0\n",
    "    n = 0\n",
    "    while abs(z) <= 2 and n < max_iter:\n",
    "        z = z*z + c\n",
    "        n += 1\n",
    "    return n\n"
   ]
  },
  {
   "cell_type": "code",
   "execution_count": 9,
   "metadata": {},
   "outputs": [
    {
     "name": "stdout",
     "output_type": "stream",
     "text": [
      "Running on local URL:  http://127.0.0.1:7862\n",
      "\n",
      "To create a public link, set `share=True` in `launch()`.\n"
     ]
    },
    {
     "data": {
      "text/html": [
       "<div><iframe src=\"http://127.0.0.1:7862/\" width=\"100%\" height=\"500\" allow=\"autoplay; camera; microphone; clipboard-read; clipboard-write;\" frameborder=\"0\" allowfullscreen></iframe></div>"
      ],
      "text/plain": [
       "<IPython.core.display.HTML object>"
      ]
     },
     "metadata": {},
     "output_type": "display_data"
    },
    {
     "data": {
      "text/plain": []
     },
     "execution_count": 9,
     "metadata": {},
     "output_type": "execute_result"
    }
   ],
   "source": [
    "import gradio as gr\n",
    "\n",
    "def plot_fractal(fractal_type, depth_or_iter):\n",
    "    fig, ax = plt.subplots()\n",
    "    ax.set_aspect('equal')\n",
    "    ax.axis('off')\n",
    "    \n",
    "    if fractal_type == \"Sierpinski Triangle\":\n",
    "        vertices = np.array([[0, 0], [0.5, np.sqrt(3)/2], [1, 0]])\n",
    "        sierpinski_triangle(ax, depth_or_iter, vertices)\n",
    "        plt.xlim(0, 1)\n",
    "        plt.ylim(0, np.sqrt(3)/2)\n",
    "    elif fractal_type == \"Mandelbrot Set\":\n",
    "        x_min, x_max = -2, 1\n",
    "        y_min, y_max = -1.5, 1.5\n",
    "        width, height = 500, 500\n",
    "        bitmap = np.zeros((width, height))\n",
    "        for x in range(width):\n",
    "            for y in range(height):\n",
    "                real = x_min + x * (x_max - x_min) / width\n",
    "                imag = y_min + y * (y_max - y_min) / height\n",
    "                color = mandelbrot(complex(real, imag), depth_or_iter)\n",
    "                bitmap[y, x] = color\n",
    "        ax.imshow(bitmap.T, extent=[x_min, x_max, y_min, y_max], cmap='hot')\n",
    "    plt.close(fig)\n",
    "    return fig\n",
    "\n",
    "# Cell 5: Gradio Interface Setup\n",
    "iface = gr.Interface(\n",
    "    fn=plot_fractal,\n",
    "    inputs=[\n",
    "        gr.Dropdown(label=\"Fractal Type\", choices=[\"Sierpinski Triangle\", \"Mandelbrot Set\"]),\n",
    "        gr.Slider(minimum=1, maximum=10, step=1, value=5, label=\"Depth/Iterations\")\n",
    "    ],\n",
    "    outputs=\"plot\",\n",
    "    title=\"Fractal Generator\",\n",
    "    description=\"Select a fractal type and adjust the depth/iterations to see different patterns.\"\n",
    ")\n",
    "\n",
    "iface.launch()"
   ]
  }
 ],
 "metadata": {
  "kernelspec": {
   "display_name": "jupy",
   "language": "python",
   "name": "python3"
  },
  "language_info": {
   "codemirror_mode": {
    "name": "ipython",
    "version": 3
   },
   "file_extension": ".py",
   "mimetype": "text/x-python",
   "name": "python",
   "nbconvert_exporter": "python",
   "pygments_lexer": "ipython3",
   "version": "3.12.2"
  }
 },
 "nbformat": 4,
 "nbformat_minor": 2
}
