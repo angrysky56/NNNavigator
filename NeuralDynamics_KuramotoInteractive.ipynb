{
 "cells": [
  {
   "cell_type": "markdown",
   "metadata": {},
   "source": [
    "# Neural Network Conceptualization using Kuramoto Model\n",
    "\n",
    "This notebook explores the Kuramoto model, a complex system representing synchronization, and draws analogies to neural network behaviors. By adjusting the model parameters, we can gain insights into how neural networks might behave under varying conditions.\n"
   ]
  },
  {
   "cell_type": "markdown",
   "metadata": {},
   "source": [
    "# Create a venv with python i.e. \n",
    "\n",
    "conda create -n fractals python=3.12.1\n",
    "\n",
    "conda activate fractals\n",
    "\n",
    "# Make sure you have the right kernel selected in the top right of VS Code.\n",
    "\n",
    "*You may need to:* \n",
    "\n",
    "pip install matplotlib\n",
    "\n",
    "pip install ipywidgets\n",
    "\n",
    "*Then you can run the rest*-"
   ]
  },
  {
   "cell_type": "code",
   "execution_count": 1,
   "metadata": {},
   "outputs": [],
   "source": [
    "import numpy as np\n",
    "import matplotlib.pyplot as plt\n",
    "from matplotlib.animation import FuncAnimation\n",
    "import ipywidgets as widgets\n",
    "from IPython.display import display"
   ]
  },
  {
   "cell_type": "markdown",
   "metadata": {},
   "source": [
    "## Interactive Controls\n",
    "\n",
    "Use the sliders below to adjust the parameters of the Kuramoto model. These parameters can be thought of as analogous to aspects of a neural network:\n",
    "- **Number of Oscillators**: Similar to the number of neurons.\n",
    "- **Coupling Strength**: Analogous to the strength of synaptic connections.\n",
    "- **Noise Level**: Represents external inputs or perturbations to the system.\n"
   ]
  },
  {
   "cell_type": "code",
   "execution_count": 2,
   "metadata": {},
   "outputs": [],
   "source": [
    "# Widget definitions\n",
    "n_oscillators_widget = widgets.IntSlider(min=10, max=1000, step=1, value=50, description='Oscillators')\n",
    "coupling_strength_widget = widgets.FloatSlider(min=0, max=200, step=0.1, value=0.5, description='Coupling Strength')\n",
    "noise_level_widget = widgets.FloatSlider(min=0, max=100, step=0.05, value=0.1, description='Noise Level')\n",
    "frequency_dist_widget = widgets.FloatSlider(min=0.001, max=200, step=0.1, value=1, description='Freq. Distribution')\n",
    "time_widget = widgets.IntSlider(min=1, max=5000, step=1, value=50, description='Time')\n",
    "phases_widget = widgets.IntSlider(min=1, max=5000, step=1, value=50, description='Phases')"
   ]
  },
  {
   "cell_type": "code",
   "execution_count": 3,
   "metadata": {},
   "outputs": [],
   "source": [
    "# Kuramoto model function \n",
    "def kuramoto_model(n, coupling_strength, frequency_dist, time, dt, noise_level):\n",
    "        phases = np.random.uniform(0, 2 * np.pi, n)  # Initial phases with applied phase shifts\n",
    "        # Natural frequencies\n",
    "        frequencies = np.random.normal(0, frequency_dist, n)\n",
    "        history = []\n",
    "        coupling_strength = 0.1  # Initial coupling strength\n",
    "    \n",
    "        for t in np.arange(0, time, dt):\n",
    "            # Varying coupling strength over time\n",
    "            coupling_strength = 0.5 + 0.5 * np.sin(2 * np.pi * t / time)\n",
    "            # Add noise to phases\n",
    "            phases += np.random.normal(0, noise_level, n) * dt\n",
    "            # Calculate phase differences matrix\n",
    "            phase_diff_matrix = np.sin(np.subtract.outer(phases, phases))\n",
    "            # Update phases\n",
    "            dtheta = dt * (frequencies + (coupling_strength / n) * np.sum(phase_diff_matrix, axis=1))\n",
    "            phases = (phases + dtheta) % (2 * np.pi)\n",
    "            history.append(phases.copy())\n",
    "    \n",
    "        return np.array(history)"
   ]
  },
  {
   "cell_type": "code",
   "execution_count": 4,
   "metadata": {},
   "outputs": [],
   "source": [
    "# Visualization function for the Kuramoto model \n",
    "def visualize_dynamic_heatmap(history):\n",
    "    fig, ax = plt.subplots()\n",
    "    im = ax.imshow(np.sin(np.subtract.outer(history[0], history[0])), cmap='hsv', interpolation='nearest')\n",
    "    fig.colorbar(im, ax=ax, orientation='vertical')\n",
    "    ax.set_title('Enhanced Kuramoto Model')\n",
    "\n",
    "    def animate(i):\n",
    "        im.set_array(np.sin(np.subtract.outer(history[i], history[i])))\n",
    "        return [im]\n",
    "\n",
    "    ani = FuncAnimation(fig, animate, frames=len(history), interval=50, blit=True)\n",
    "    plt.show()"
   ]
  },
  {
   "cell_type": "markdown",
   "metadata": {},
   "source": [
    "## Neural Network Analogy\n",
    "\n",
    "The Kuramoto model's synchronization patterns can be seen as a metaphor for the behavior of neural networks. By observing the changes in synchronization, we can conceptualize how neural networks might adapt and evolve during learning processes.\n"
   ]
  },
  {
   "cell_type": "code",
   "execution_count": 5,
   "metadata": {},
   "outputs": [
    {
     "data": {
      "application/vnd.jupyter.widget-view+json": {
       "model_id": "a038132e309c4d9497db5c629c1bcda5",
       "version_major": 2,
       "version_minor": 0
      },
      "text/plain": [
       "interactive(children=(IntSlider(value=50, description='Oscillators', max=1000, min=10), FloatSlider(value=0.5,…"
      ]
     },
     "metadata": {},
     "output_type": "display_data"
    }
   ],
   "source": [
    "# Function to update and visualize the model based on widget values\n",
    "def update_and_visualize(n, coupling_strength, frequency_dist, time, phases, noise_level):\n",
    "    history = kuramoto_model(n, coupling_strength, frequency_dist, time, phases, noise_level)\n",
    "    visualize_dynamic_heatmap(history)\n",
    "\n",
    "# Link widgets to the visualization function\n",
    "interactive_plot = widgets.interactive(update_and_visualize, \n",
    "                                       n=n_oscillators_widget, \n",
    "                                       time=time_widget,\n",
    "                                       phases=phases_widget,\n",
    "                                       coupling_strength=coupling_strength_widget, \n",
    "                                       frequency_dist=frequency_dist_widget, \n",
    "                                       noise_level=noise_level_widget)\n",
    "\n",
    "# Display the interactive plot\n",
    "display(interactive_plot)\n"
   ]
  },
  {
   "cell_type": "markdown",
   "metadata": {},
   "source": [
    "## Discussion\n",
    "\n",
    "The interactive exploration of the Kuramoto model allows us to draw parallels with neural network training. For instance, the synchronization process can be likened to the learning phase of neural networks, where neurons adjust their weights (synaptic strengths) to achieve a specific task.\n"
   ]
  },
  {
   "cell_type": "markdown",
   "metadata": {},
   "source": [
    "## Conclusion\n",
    "\n",
    "This notebook serves as a conceptual bridge between the physics of synchronization and neural network dynamics, offering an intuitive way to understand complex behaviors in neural networks.\n"
   ]
  }
 ],
 "metadata": {
  "kernelspec": {
   "display_name": "aca",
   "language": "python",
   "name": "python3"
  },
  "language_info": {
   "codemirror_mode": {
    "name": "ipython",
    "version": 3
   },
   "file_extension": ".py",
   "mimetype": "text/x-python",
   "name": "python",
   "nbconvert_exporter": "python",
   "pygments_lexer": "ipython3",
   "version": "3.12.1"
  }
 },
 "nbformat": 4,
 "nbformat_minor": 2
}
