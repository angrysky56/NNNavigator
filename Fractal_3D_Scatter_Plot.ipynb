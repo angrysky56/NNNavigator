{
 "cells": [
  {
   "cell_type": "markdown",
   "metadata": {},
   "source": [
    "Use in VS Code\n",
    "Create a python environment. I used 3.12.2\n",
    "activate the kernel for the env- I called mine jupy "
   ]
  },
  {
   "cell_type": "code",
   "execution_count": null,
   "metadata": {},
   "outputs": [],
   "source": [
    "# Use ! to run shell commands from an IPython notebook cell\n",
    "%pip install numpy pandas gradio matplotlib pyarrow ipywidgets\n"
   ]
  },
  {
   "cell_type": "code",
   "execution_count": 1,
   "metadata": {},
   "outputs": [],
   "source": [
    "# Import necessary libraries\n",
    "import numpy as np\n",
    "import pandas as pd\n",
    "import gradio as gr\n",
    "import matplotlib.pyplot as plt\n",
    "from matplotlib.patches import Polygon\n",
    "from mpl_toolkits.mplot3d import Axes3D\n"
   ]
  },
  {
   "cell_type": "code",
   "execution_count": 2,
   "metadata": {},
   "outputs": [],
   "source": [
    "def generate_fractal(angle=np.pi / 4, resolution=100):\n",
    "    # Initialize the figure for 3D plotting\n",
    "    fig = plt.figure(figsize=(10, 7))\n",
    "    ax = fig.add_subplot(111, projection='3d')\n",
    "    \n",
    "    # Set the axes limits\n",
    "    ax.set_xlim(-1, 1)\n",
    "    ax.set_ylim(-1, 1)\n",
    "    ax.set_zlim(-1, 1)\n",
    "    \n",
    "    # Fractal function\n",
    "    def fractal(x, y, a):\n",
    "        if a < np.pi / 2:\n",
    "            return np.sin(x) * np.cos(y)\n",
    "        else:\n",
    "            return np.sin(x) * np.sin(y)\n",
    "    \n",
    "    # Generate points\n",
    "    points = []\n",
    "    for x in np.linspace(-1, 1, resolution):\n",
    "        for y in np.linspace(-1, 1, resolution):\n",
    "            points.append((x, y, fractal(x, y, angle)))\n",
    "    \n",
    "    # Plot\n",
    "    df = pd.DataFrame(points, columns=['x', 'y', 'z'])\n",
    "    ax.scatter(df['x'], df['y'], df['z'])\n",
    "    plt.close(fig)  # Prevents the figure from being displayed here; Gradio will handle the display\n",
    "    return fig\n"
   ]
  },
  {
   "cell_type": "code",
   "execution_count": 3,
   "metadata": {},
   "outputs": [
    {
     "name": "stdout",
     "output_type": "stream",
     "text": [
      "Running on local URL:  http://127.0.0.1:7860\n",
      "\n",
      "To create a public link, set `share=True` in `launch()`.\n"
     ]
    },
    {
     "data": {
      "text/html": [
       "<div><iframe src=\"http://127.0.0.1:7860/\" width=\"100%\" height=\"500\" allow=\"autoplay; camera; microphone; clipboard-read; clipboard-write;\" frameborder=\"0\" allowfullscreen></iframe></div>"
      ],
      "text/plain": [
       "<IPython.core.display.HTML object>"
      ]
     },
     "metadata": {},
     "output_type": "display_data"
    },
    {
     "data": {
      "text/plain": []
     },
     "execution_count": 3,
     "metadata": {},
     "output_type": "execute_result"
    }
   ],
   "source": [
    "import gradio as gr\n",
    "\n",
    "def gradio_interface(angle=45, resolution=100):\n",
    "    # Convert angle from degrees to radians for the fractal function\n",
    "    angle_rad = np.pi * angle / 180\n",
    "    fig = generate_fractal(angle=angle_rad, resolution=resolution)\n",
    "    return fig\n",
    "\n",
    "# Define Gradio interface with corrected keyword argument\n",
    "iface = gr.Interface(fn=gradio_interface,\n",
    "                     inputs=[gr.Slider(minimum=0, maximum=180, value=45, label=\"Angle (degrees)\"),\n",
    "                             gr.Slider(minimum=50, maximum=200, step=50, value=100, label=\"Resolution\")],\n",
    "                     outputs=\"plot\",\n",
    "                     title=\"Explore Fractal Patterns\",\n",
    "                     description=\"Adjust the angle and resolution to see different fractal patterns.\",\n",
    "                     live=True)\n",
    "\n",
    "# Launch the interface\n",
    "iface.launch()\n"
   ]
  }
 ],
 "metadata": {
  "kernelspec": {
   "display_name": "jupy",
   "language": "python",
   "name": "python3"
  },
  "language_info": {
   "codemirror_mode": {
    "name": "ipython",
    "version": 3
   },
   "file_extension": ".py",
   "mimetype": "text/x-python",
   "name": "python",
   "nbconvert_exporter": "python",
   "pygments_lexer": "ipython3",
   "version": "3.12.2"
  }
 },
 "nbformat": 4,
 "nbformat_minor": 2
}
