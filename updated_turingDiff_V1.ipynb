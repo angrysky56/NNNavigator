{
 "cells": [
  {
   "cell_type": "markdown",
   "id": "b0e768f3",
   "metadata": {},
   "source": [
    "This code is very basic, I am not a coder or good at math. Please feel free to improve it in any way.\n",
    "Tyler Hall 2.24.24\n",
    "Git hub repo [NNNavigator](https://github.com/angrysky56/NNNavigator)"
   ]
  },
  {
   "cell_type": "code",
   "execution_count": 33,
   "id": "6f70af52",
   "metadata": {},
   "outputs": [],
   "source": [
    "# Use CLI to run: \"conda create -n jupy python=3.12\" then activate the kernel in VS Code notebooks.\n",
    "# uncomment the line below to install the required packages, add more as required.\n",
    "# %pip install numpy pyarrow scipy matplotlib "
   ]
  },
  {
   "cell_type": "code",
   "execution_count": 34,
   "id": "88c6c92d",
   "metadata": {},
   "outputs": [],
   "source": [
    "import json\n",
    "import numpy as np\n",
    "from scipy.signal import convolve2d\n",
    "import matplotlib.pyplot as plt\n",
    "from PIL import Image\n",
    "import io\n",
    "import os \n",
    "\n",
    "# Preset configurations for quick access\n",
    "presets = {\n",
    "    \"Fingerprint\": {\"size\": 100, \"Du\": 0.16, \"Dv\": 0.08, \"F\": 0.035, \"k\": 0.060},\n",
    "    \"Maze\": {\"size\": 100, \"Du\": 0.07, \"Dv\": 0.06, \"F\": 0.035, \"k\": 0.065},\n",
    "    \"Spots and Waves\": {\"size\": 100, \"Du\": 0.19, \"Dv\": 0.05, \"F\": 0.060, \"k\": 0.062},\n",
    "    \"Moving Spots\": {\"size\": 100, \"Du\": 0.12, \"Dv\": 0.08, \"F\": 0.020, \"k\": 0.055},\n",
    "    \"Chaos and Threads\": {\"size\": 100, \"Du\": 0.10, \"Dv\": 0.10, \"F\": 0.030, \"k\": 0.057},\n",
    "    \"Zigzag Waves\": {\"size\": 100, \"Du\": 0.16, \"Dv\": 0.08, \"F\": 0.062, \"k\": 0.061}\n",
    "}\n",
    "\n",
    "# List of available color maps\n",
    "color_map = [\"viridis\", \"plasma\", \"inferno\", \"magma\", \"cividis\"]\n",
    "\n",
    "# Define the kernel for the convolution that represents the Laplacian operator\n",
    "laplacian_kernel = np.array([[0.05, 0.2, 0.05],\n",
    "                             [0.2, -1, 0.2],\n",
    "                             [0.05, 0.2, 0.05]])\n",
    "\n",
    "def laplacian_convolution(Z):\n",
    "    return convolve2d(Z, laplacian_kernel, mode='same', boundary='fill', fillvalue=0)\n",
    "\n",
    "def simulate_turing_patterns(preset, color_map, size, Du, Dv, F, k, initial_condition, time_steps, view_mode):\n",
    "    if preset:\n",
    "      # Load preset parameters\n",
    "      size = presets[preset]['size']\n",
    "      Du = presets[preset]['Du']\n",
    "      Dv = presets[preset]['Dv']\n",
    "      F = presets[preset]['F']\n",
    "      k = presets[preset]['k']\n",
    "    \n",
    "    # Initialize concentration of u and v\n",
    "    U = np.ones((size, size))\n",
    "    V = np.zeros((size, size))\n",
    "    \n",
    "    # Add initial conditions for V\n",
    "    middle = size // 2\n",
    "    if initial_condition == \"small square\":\n",
    "        U[middle-5:middle+5, middle-5:middle+5] = 0.50\n",
    "        V[middle-5:middle+5, middle-5:middle+5] = 0.25\n",
    "    elif initial_condition == \"large square\":\n",
    "        U[middle-10:middle+10, middle-10:middle+10] = 0.50\n",
    "        V[middle-10:middle+10, middle-10:middle+10] = 0.25\n",
    "    elif initial_condition == \"random\":\n",
    "        np.random.seed(0)\n",
    "        V = np.random.rand(size, size)\n",
    " \n",
    "    # Time-stepping loop\n",
    "    for t in range(time_steps):\n",
    "        # Apply the Laplacian function using convolution\n",
    "        Lu = laplacian_convolution(U)\n",
    "        Lv = laplacian_convolution(V)\n",
    "        \n",
    "        # Reaction-diffusion equations, updating only the interior\n",
    "        uvv = U[1:-1, 1:-1] * V[1:-1, 1:-1] ** 2\n",
    "        U[1:-1, 1:-1] += Du * Lu[1:-1, 1:-1] - uvv + F * (1 - U[1:-1, 1:-1])\n",
    "        V[1:-1, 1:-1] += Dv * Lv[1:-1, 1:-1] + uvv - (F + k) * V[1:-1, 1:-1]\n",
    "\n",
    "         # Visualization\n",
    "    # Save the plot to a BytesIO object and convert to an image\n",
    "    buf = io.BytesIO()\n",
    "    plt.imshow(U, cmap=color_map)\n",
    "    plt.axis('off')\n",
    "    plt.tight_layout()\n",
    "    plt.savefig(buf, format='png')\n",
    "    buf.seek(0)\n",
    "    img = Image.open(buf)\n",
    "    plt.close()\n",
    "    return img\n",
    "\n"
   ]
  },
  {
   "cell_type": "markdown",
   "id": "eaf982cb",
   "metadata": {},
   "source": [
    " **The feed rate (F) typically controls how quickly the activator is fed into the system, and the kill rate (k) controls how quickly the inhibitor removes the activator. Higher diffusion rates of the activator (Du) relative to the inhibitor (Dv) can lead to spot patterns, while the opposite can lead to stripe patterns.**\n",
    "\n",
    "Based on general knowledge, here are some examples that could illustrate the influence of the parameters on Turing patterns:\n",
    "\n",
    "1. **Feed Rate (F)**:\n",
    "   - **Low Feed Rate**: A low feed rate (e.g., F = 0.01) means the activator is supplied slowly to the system. This might result in patterns that take longer to emerge or are less pronounced.\n",
    "   - **High Feed Rate**: A high feed rate (e.g., F = 0.12) supplies the activator more quickly, potentially leading to more rapid pattern formation and more vibrant or chaotic patterns.\n",
    "\n",
    "2. **Kill Rate (k)**:\n",
    "   - **Low Kill Rate**: A low kill rate (e.g., k = 0.02) implies the inhibitor removes the activator slowly, which can allow the activator to accumulate and may lead to the formation of spot-like patterns.\n",
    "   - **High Kill Rate**: A high kill rate (e.g., k = 0.07) can quickly remove the activator, potentially leading to the formation of stripe-like patterns as the activator is not able to accumulate to the same extent.\n",
    "\n",
    "3. **Diffusion Rates (Du, Dv)**:\n",
    "   - **Higher Diffusion Rate of Activator (Du > Dv)**: If the activator diffuses more rapidly than the inhibitor (e.g., Du = 0.16 and Dv = 0.08), it can lead to the formation of spots or blobs as the activator spreads out quickly from its source.\n",
    "   - **Higher Diffusion Rate of Inhibitor (Du < Dv)**: If the inhibitor diffuses more rapidly (e.g., Du = 0.08 and Dv = 0.16), it tends to suppress the activator more uniformly, which can lead to stripe-like or labyrinthine patterns.\n",
    "\n",
    "The exact behavior can vary significantly based on the specific model and the interaction of these parameters. Experimentation and simulation are often used to explore the vast parameter space of Turing patterns. For educational or illustrative purposes, these examples can serve as a starting point to understand the influence of each parameter. If you need more detailed and specific examples, consulting academic literature on reaction-diffusion systems and Turing patterns would be the best approach."
   ]
  },
  {
   "cell_type": "code",
   "execution_count": 35,
   "id": "f528fa46",
   "metadata": {},
   "outputs": [
    {
     "name": "stdout",
     "output_type": "stream",
     "text": [
      "Running on local URL:  http://127.0.0.1:7875\n",
      "\n",
      "To create a public link, set `share=True` in `launch()`.\n"
     ]
    },
    {
     "data": {
      "text/html": [
       "<div><iframe src=\"http://127.0.0.1:7875/\" width=\"100%\" height=\"500\" allow=\"autoplay; camera; microphone; clipboard-read; clipboard-write;\" frameborder=\"0\" allowfullscreen></iframe></div>"
      ],
      "text/plain": [
       "<IPython.core.display.HTML object>"
      ]
     },
     "metadata": {},
     "output_type": "display_data"
    },
    {
     "data": {
      "text/plain": []
     },
     "execution_count": 35,
     "metadata": {},
     "output_type": "execute_result"
    }
   ],
   "source": [
    "\n",
    "import gradio as gr\n",
    "\n",
    "# We need to add the new 'view_mode' parameter to the Gradio interface\n",
    "iface = gr.Interface(\n",
    "    simulate_turing_patterns,\n",
    "    inputs=[\n",
    "        gr.Dropdown(list(presets.keys()) + [None], label=\"Parameter Presets\", value=None),\n",
    "        gr.Dropdown(color_map, label=\"Color Map\", value=\"viridis\"),\n",
    "        gr.Slider(10, 1000, step=10, value=100, label=\"Grid Size: Higher values zoom out, can take a while.\"),\n",
    "        gr.Slider(minimum=0.001, maximum=1, step=0.001, value=0.2, label=\"Diffusion Rate of Activator: U (Du)\"),\n",
    "        gr.Slider(minimum=0.001, maximum=1, step=0.001, value=0.03, label=\"Diffusion Rate of Inhibitor: V (Dv)\"),\n",
    "        gr.Slider(minimum=0.001, maximum=1, step=0.001, value=0.03, label=\"Feed Rate: Speed of Activator supply (F)\"),\n",
    "        gr.Slider(minimum=0.001, maximum=1, step=0.001, value=0.05, label=\"Kill Rate: Speed of Activator removal (k)\"),\n",
    "        gr.Radio(choices=[\"small square\", \"large square\", \"random\"], value= \"large square\", label=\"Initial Condition\"),\n",
    "        gr.Slider(minimum=100, maximum=15000, step=100, value=2000, label=\"Total Number of Iterations\"),\n",
    "        gr.Radio(choices=['U', 'V', 'U+V'], label=\"View Mode\", value='U')\n",
    "    ],\n",
    "    outputs=\"image\",\n",
    "    live=False\n",
    ")\n",
    "\n",
    "iface.launch()\n"
   ]
  }
 ],
 "metadata": {
  "kernelspec": {
   "display_name": "jupy",
   "language": "python",
   "name": "python3"
  },
  "language_info": {
   "codemirror_mode": {
    "name": "ipython",
    "version": 3
   },
   "file_extension": ".py",
   "mimetype": "text/x-python",
   "name": "python",
   "nbconvert_exporter": "python",
   "pygments_lexer": "ipython3",
   "version": "3.12.2"
  }
 },
 "nbformat": 4,
 "nbformat_minor": 5
}
